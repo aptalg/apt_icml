{
 "cells": [
  {
   "cell_type": "markdown",
   "metadata": {},
   "source": [
    "# M/G/1 model\n",
    "\n",
    "- simulator taken from SNL package (py3 version), which contains the original https://github.com/gpapamak/snl after 2to3 conversion with minimal edits (deactivating generator-internal summary stats normalization)."
   ]
  },
  {
   "cell_type": "code",
   "execution_count": null,
   "metadata": {
    "scrolled": true
   },
   "outputs": [],
   "source": [
    "%matplotlib inline\n",
    "import numpy as np\n",
    "from matplotlib import pyplot as plt\n",
    "import timeit\n",
    "\n",
    "from delfi.inference import SNPEC as APT\n",
    "\n",
    "from util import init_g_mg1 as init_g\n",
    "from util import load_setup_mg1 as load_setup\n",
    "from util import load_gt_mg1 as load_gt\n",
    "from util import draw_sample_shifted_uniform_prior as rej_sampler\n",
    "\n",
    "from snl.util.plot import plot_hist_marginals\n",
    "\n",
    "seed = 42\n",
    "\n",
    "# simulation setup\n",
    "setup_dict = load_setup()\n",
    "\n",
    "pars_true, obs_stats = load_gt(generator=init_g(seed=seed))\n",
    "print('pars_true : ', pars_true)\n",
    "print('obs_stats : ', obs_stats)\n"
   ]
  },
  {
   "cell_type": "markdown",
   "metadata": {},
   "source": [
    "# fit APT"
   ]
  },
  {
   "cell_type": "code",
   "execution_count": null,
   "metadata": {
    "scrolled": false
   },
   "outputs": [],
   "source": [
    "if setup_dict['train_on_all']:\n",
    "    epochs=[setup_dict['epochs']//(r+1) for r in range(setup_dict['n_rounds'])]\n",
    "else:\n",
    "    epochs=setup_dict['epochs']\n",
    "\n",
    "# control MAF seed\n",
    "rng = np.random\n",
    "rng.seed(seed)\n",
    "\n",
    "# generator\n",
    "g = init_g(seed=seed)\n",
    "    \n",
    "res = APT(g,\n",
    "          obs=obs_stats,\n",
    "          n_hiddens=setup_dict['n_hiddens'],\n",
    "          seed=seed,\n",
    "          reg_lambda=setup_dict['reg_lambda'],\n",
    "          pilot_samples=setup_dict['pilot_samples'],\n",
    "          svi=setup_dict['svi'],\n",
    "          n_mades=setup_dict['n_mades'],\n",
    "          act_fun=setup_dict['act_fun'],\n",
    "          mode=setup_dict['mode'],\n",
    "          rng=rng,\n",
    "          batch_norm=setup_dict['batch_norm'],\n",
    "          verbose=setup_dict['verbose'],\n",
    "          #upper=setup_dict['upper'], # box-constraints for support\n",
    "          #lower=setup_dict['lower'], # of MAF outputs (maf.y)\n",
    "          prior_norm=setup_dict['prior_norm'])\n",
    "\n",
    "print('conditional density estimator', res.network)\n",
    "\n",
    "# train\n",
    "t = timeit.time.time()\n",
    "print('fitting model with SNPC-C')\n",
    "logs, tds, posteriors = res.run(\n",
    "                    n_train=setup_dict['n_train'],\n",
    "                    proposal=setup_dict['proposal'],\n",
    "                    moo=setup_dict['moo'],\n",
    "                    n_null = setup_dict['n_null'],\n",
    "                    n_rounds=setup_dict['n_rounds'],\n",
    "                    train_on_all=setup_dict['train_on_all'],\n",
    "                    minibatch=setup_dict['minibatch'],\n",
    "                    epochs=epochs)\n",
    "print('fitting time : ', timeit.time.time() - t)"
   ]
  },
  {
   "cell_type": "markdown",
   "metadata": {},
   "source": [
    "# store results"
   ]
  },
  {
   "cell_type": "code",
   "execution_count": null,
   "metadata": {
    "scrolled": true
   },
   "outputs": [],
   "source": [
    "#from util import save_results, load_results\n",
    "#model_id = 'mg1'\n",
    "#save_path = 'results/' + model_id + '_box_validationset'\n",
    "#exp_id = 'seed'+str(seed)\n",
    "\n",
    "#save_results(logs=logs, tds=tds, posteriors=posteriors, \n",
    "#             setup_dict=setup_dict, exp_id=exp_id, path=save_path)\n",
    "\n",
    "#logs, tds, posteriors, setup_dict = load_results(exp_id=exp_id, path=path)"
   ]
  },
  {
   "cell_type": "markdown",
   "metadata": {},
   "source": [
    "# inspect results"
   ]
  },
  {
   "cell_type": "code",
   "execution_count": null,
   "metadata": {
    "scrolled": false
   },
   "outputs": [],
   "source": [
    "for r in np.arange(0, len(logs), 1):\n",
    "    \n",
    "    posterior = posteriors[r]\n",
    "    samples = rej_sampler(posterior, 5000) # fast parallel rejection sampler\n",
    "    \n",
    "    fig = plot_hist_marginals(\n",
    "                   samples=samples,\n",
    "                   gt=pars_true, \n",
    "                   lims=[[-3,3]])\n",
    "    \n",
    "    fig.set_figheight(12)\n",
    "    fig.set_figwidth(12)\n",
    "    fig.suptitle('APT posterior estimates, round r = '+str(r+1), fontsize=14)\n",
    "    fig.show()\n",
    "    print('negative log-probability of ground-truth pars \\n', -posterior.eval(pars_true, log=True))"
   ]
  },
  {
   "cell_type": "code",
   "execution_count": null,
   "metadata": {},
   "outputs": [],
   "source": []
  }
 ],
 "metadata": {
  "kernelspec": {
   "display_name": "Python 3",
   "language": "python",
   "name": "python3"
  },
  "language_info": {
   "codemirror_mode": {
    "name": "ipython",
    "version": 3
   },
   "file_extension": ".py",
   "mimetype": "text/x-python",
   "name": "python",
   "nbconvert_exporter": "python",
   "pygments_lexer": "ipython3",
   "version": "3.5.1"
  }
 },
 "nbformat": 4,
 "nbformat_minor": 2
}
