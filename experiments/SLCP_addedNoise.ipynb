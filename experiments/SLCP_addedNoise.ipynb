{
 "cells": [
  {
   "cell_type": "code",
   "execution_count": null,
   "metadata": {},
   "outputs": [],
   "source": [
    "%matplotlib inline\n",
    "import numpy as np\n",
    "from matplotlib import pyplot as plt\n",
    "import timeit\n",
    "\n",
    "import delfi.distribution as dd\n",
    "from delfi.inference import SNPEC as APT\n",
    "\n",
    "from util import save_results, load_results\n",
    "from util import init_g_gauss as init_g\n",
    "from util import load_setup_gauss as load_setup\n",
    "from util import load_gt_gauss as load_gt\n",
    "from util import draw_sample_uniform_prior_33 as rej_sampler\n",
    "\n",
    "from util import NoiseStats\n",
    "\n",
    "from snl.util.plot import plot_hist_marginals\n",
    "\n",
    "seed = 52\n",
    "noise_dim = 52\n",
    "n_noise_comps = 20\n",
    "\n",
    "# simulation setup\n",
    "setup_dict = load_setup()\n",
    "\n",
    "pars_true, obs_stats = load_gt(generator=init_g(seed=seed))\n",
    "print('pars_true : ', pars_true)\n",
    "print('obs_stats : ', obs_stats)\n"
   ]
  },
  {
   "cell_type": "markdown",
   "metadata": {},
   "source": [
    "# define source for additive uninformative noise\n",
    "\n",
    "- mixture of n_noise_comps multivarate-t distributions in noise_dim dimensions"
   ]
  },
  {
   "cell_type": "code",
   "execution_count": null,
   "metadata": {},
   "outputs": [],
   "source": [
    "rng = np.random\n",
    "rng.seed(seed)\n",
    "\n",
    "# means of mixture components\n",
    "noise_means_prior = dd.Gaussian(m = np.zeros(noise_dim), S=np.eye(noise_dim), seed=seed+1)\n",
    "noise_ms = [noise_means_prior.gen(1).reshape(-1) for i in range(n_noise_comps)]\n",
    "\n",
    "# 'cov' matrices of mixture componens\n",
    "cholesky_factors = [np.tril(rng.normal(size=(noise_dim, noise_dim))) + np.diag(np.exp(rng.normal(size=noise_dim)))\n",
    "                    + 3. * np.eye(noise_dim) for i in range(n_noise_comps)]\n",
    "noise_Ss = [3 * np.dot(ch, ch.T) / noise_dim for ch in cholesky_factors]\n",
    "noise_ms = [15 * rng.normal(size=noise_dim) for i in range(n_noise_comps)]\n",
    "\n",
    "# degrees of freedom for mixture components\n",
    "noise_dofs = [2 for i in range(n_noise_comps)]\n",
    "\n",
    "# mixture of t with uniform mixture coefficients\n",
    "noise_distribution = dd.MoT(a=np.ones(n_noise_comps) / n_noise_comps, ms=noise_ms, Ss=noise_Ss, dofs=noise_dofs, seed=seed)\n",
    "noise_distribution.ndim = noise_dim\n",
    "\n",
    "# generator\n",
    "g = init_g(seed=seed)\n",
    "g.summary = NoiseStats(noise_source=noise_distribution, n_signal=8, seed=seed)\n",
    "g.model.dim_param = 5\n",
    "\n",
    "# compute augmented obersvation xo by stacking actual xo with added noise. Don't forget to also permute !\n",
    "obs_stats = np.hstack((obs_stats, noise_distribution.gen(1).reshape(1,-1)))[0,g.summary.idx]\n",
    "assert obs_stats.size ==  g.summary.n_summary\n",
    "\n",
    "print('permutation indices', g.summary.idx)\n",
    "\n",
    "fig = plot_hist_marginals(noise_distribution.gen(1000))\n",
    "fig.set_figwidth(16)\n",
    "fig.set_figheight(16)\n",
    "fig.show()"
   ]
  },
  {
   "cell_type": "markdown",
   "metadata": {},
   "source": [
    "# fit APT"
   ]
  },
  {
   "cell_type": "code",
   "execution_count": null,
   "metadata": {
    "scrolled": false
   },
   "outputs": [],
   "source": [
    "if setup_dict['train_on_all']:\n",
    "    epochs=[setup_dict['epochs']//(r+1) for r in range(setup_dict['n_rounds'])]\n",
    "else:\n",
    "    epochs=setup_dict['epochs']\n",
    "\n",
    "# control MAF seed\n",
    "rng = np.random\n",
    "rng.seed(seed)\n",
    "\n",
    "res = APT(g,\n",
    "          obs=obs_stats,\n",
    "          n_hiddens=setup_dict['n_hiddens'],\n",
    "          seed=seed,\n",
    "          reg_lambda=setup_dict['reg_lambda'],\n",
    "          pilot_samples=setup_dict['pilot_samples'],\n",
    "          svi=setup_dict['svi'],\n",
    "          n_mades=setup_dict['n_mades'],\n",
    "          act_fun=setup_dict['act_fun'],\n",
    "          mode=setup_dict['mode'],\n",
    "          rng=rng,\n",
    "          batch_norm=setup_dict['batch_norm'],\n",
    "          verbose=setup_dict['verbose'],\n",
    "          #upper=setup_dict['upper'], # box-constraints for support\n",
    "          #lower=setup_dict['lower'], # of MAF outputs (maf.y)\n",
    "          prior_norm=setup_dict['prior_norm'])\n",
    "\n",
    "print('conditional density estimator', res.network)\n",
    "\n",
    "# train\n",
    "t = timeit.time.time()\n",
    "print('fitting model with SNPC-C')\n",
    "logs, tds, posteriors = res.run(\n",
    "                    n_train=setup_dict['n_train'],\n",
    "                    proposal=setup_dict['proposal'],\n",
    "                    moo=setup_dict['moo'],\n",
    "                    n_null = setup_dict['n_null'],\n",
    "                    n_rounds=setup_dict['n_rounds'],\n",
    "                    train_on_all=setup_dict['train_on_all'],\n",
    "                    minibatch=setup_dict['minibatch'],\n",
    "                    epochs=epochs)\n",
    "print('fitting time : ', timeit.time.time() - t)"
   ]
  },
  {
   "cell_type": "code",
   "execution_count": null,
   "metadata": {
    "scrolled": false
   },
   "outputs": [],
   "source": [
    "for r in np.arange(0, len(logs), 4):\n",
    "    \n",
    "    posterior = posteriors[r]\n",
    "    samples = rej_sampler(posterior, 1000) # fast parallel rejection sampler\n",
    "    \n",
    "    fig = plot_hist_marginals(\n",
    "                   samples,\n",
    "                   gt=pars_true, \n",
    "                   lims=[-3,3])\n",
    "    \n",
    "    fig.set_figheight(12)\n",
    "    fig.set_figwidth(12)\n",
    "    fig.suptitle('APT posterior estimates, round r = '+str(r+1), fontsize=14)\n",
    "    fig.show()\n",
    "    print('negative log-probability of ground-truth pars \\n', -posterior.eval(pars_true, log=True))"
   ]
  },
  {
   "cell_type": "markdown",
   "metadata": {},
   "source": [
    "# fit SNL"
   ]
  },
  {
   "cell_type": "code",
   "execution_count": null,
   "metadata": {},
   "outputs": [],
   "source": [
    "import snl.simulators.gaussian as sim_gauss\n",
    "\n",
    "# replciate generator g with SNL package\n",
    "\n",
    "model = sim_gauss.Model() # APT model and prior actually are \n",
    "prior = sim_gauss.Prior() # just thin wrappers around these objects!\n",
    "\n",
    "stats = NoiseStats(noise_source=noise_distribution, n_signal=8, seed=seed)\n",
    "stats.idx = g.summary.idx # ensure that permutations match with APT and the permuted xo !\n",
    "\n",
    "print('permutation indices', stats.idx)\n",
    "\n",
    "sim_model = lambda ps, rng: stats.calc(model.sim(ps, rng=rng)) "
   ]
  },
  {
   "cell_type": "code",
   "execution_count": null,
   "metadata": {},
   "outputs": [],
   "source": [
    "from snl.inference.nde import SequentialNeuralLikelihood\n",
    "from snl.ml.models.mafs import ConditionalMaskedAutoregressiveFlow\n",
    "import sys\n",
    "\n",
    "infer = SequentialNeuralLikelihood(prior=prior, sim_model=sim_model)\n",
    "\n",
    "# control MAF seed\n",
    "rng = np.random\n",
    "rng.seed(seed)\n",
    "\n",
    "maf = ConditionalMaskedAutoregressiveFlow(n_inputs=prior.n_dims, \n",
    "                                          n_outputs=obs_stats.size, \n",
    "                                          n_hiddens=setup_dict['n_hiddens'], \n",
    "                                          act_fun=setup_dict['act_fun'], \n",
    "                                          n_mades=setup_dict['n_mades'], \n",
    "                                          batch_norm=False,           \n",
    "                                          mode=setup_dict['mode'],   \n",
    "                                          rng=rng)\n",
    "\n",
    "# control sampler seed\n",
    "rng = np.random\n",
    "rng.seed(seed+1)\n",
    "\n",
    "t = timeit.time.time()\n",
    "\n",
    "learned_model = infer.learn_likelihood(obs_xs=obs_stats.flatten(), \n",
    "                       model=maf, \n",
    "                       n_samples=setup_dict['n_train'], \n",
    "                       n_rounds=setup_dict['n_rounds'],\n",
    "                       train_on_all=setup_dict['train_on_all'],\n",
    "                       logger=sys.stdout, \n",
    "                       rng=rng)\n",
    "\n",
    "print(timeit.time.time() -  t)"
   ]
  },
  {
   "cell_type": "code",
   "execution_count": null,
   "metadata": {
    "scrolled": true
   },
   "outputs": [],
   "source": [
    "# final posterior estimate for SNL requires MCMC sampling\n",
    "import snl.inference.mcmc as mcmc\n",
    "\n",
    "thin = 10 # default value\n",
    "\n",
    "log_posterior = lambda t: learned_model.eval([t, obs_stats.flatten()]) + prior.eval(t)\n",
    "sampler = mcmc.SliceSampler(prior.gen(), log_posterior, thin=thin)\n",
    "\n",
    "sampler.gen(max(200 // thin, 1), rng=rng)  # burn in\n",
    "samples = sampler.gen(1000)\n",
    "\n",
    "fig = plot_hist_marginals(data=samples, lims=[-3,3])\n",
    "fig.set_figwidth(16)\n",
    "fig.set_figheight(16)\n",
    "fig.show()"
   ]
  },
  {
   "cell_type": "code",
   "execution_count": null,
   "metadata": {
    "scrolled": false
   },
   "outputs": [],
   "source": [
    "# track posteriors across previous rounds via generated proposal paramters (first round is prior)\n",
    "for r in range(0, len(infer.all_ps), 4):\n",
    "    fig=plot_hist_marginals(infer.all_ps[r], lims=[-3,3])\n",
    "    fig.set_figwidth(16)\n",
    "    fig.set_figheight(16)\n",
    "    fig.suptitle('SNL posterior estimate, round r' + str(r))\n",
    "    plt.show()"
   ]
  },
  {
   "cell_type": "code",
   "execution_count": null,
   "metadata": {},
   "outputs": [],
   "source": []
  }
 ],
 "metadata": {
  "kernelspec": {
   "display_name": "Python 3",
   "language": "python",
   "name": "python3"
  },
  "language_info": {
   "codemirror_mode": {
    "name": "ipython",
    "version": 3
   },
   "file_extension": ".py",
   "mimetype": "text/x-python",
   "name": "python",
   "nbconvert_exporter": "python",
   "pygments_lexer": "ipython3",
   "version": "3.7.2"
  }
 },
 "nbformat": 4,
 "nbformat_minor": 2
}
